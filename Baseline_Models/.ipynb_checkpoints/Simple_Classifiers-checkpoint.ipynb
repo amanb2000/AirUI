{
 "cells": [
  {
   "cell_type": "markdown",
   "metadata": {},
   "source": [
    "# Baseline Classifiers \n",
    "\n",
    "Scipy classifiers run on the energy-based feature extraction data. \n",
    "\n",
    "## Tasks\n",
    "- [x] Import data.\n",
    "- [x] Encode labels as one-hot vectors.\n",
    "- [x] Split data into training and test sets.\n",
    "- [x] Train and validate classifier (MLP)\n",
    "- [x] Create procedure for adjusting number of input classes given to the model.\n",
    "- [x] Represent the results."
   ]
  },
  {
   "cell_type": "code",
   "execution_count": 120,
   "metadata": {},
   "outputs": [],
   "source": [
    "# Import Box #\n",
    "import numpy as np\n",
    "import matplotlib.pyplot as plt\n",
    "from scipy.io import wavfile\n",
    "import scipy.io\n",
    "\n",
    "from sklearn.neural_network import MLPClassifier\n",
    "from sklearn.svm import LinearSVC\n",
    "from sklearn.preprocessing import StandardScaler\n",
    "from sklearn.pipeline import make_pipeline\n",
    "from sklearn.model_selection import train_test_split\n",
    "\n",
    "from sklearn.preprocessing import OneHotEncoder\n",
    "\n",
    "from sklearn.metrics import confusion_matrix\n"
   ]
  },
  {
   "cell_type": "code",
   "execution_count": 111,
   "metadata": {},
   "outputs": [
    {
     "name": "stdout",
     "output_type": "stream",
     "text": [
      "Shape of X: (258, 20);\n",
      "Shape of Y: (258, 1)\n"
     ]
    },
    {
     "data": {
      "image/png": "[encoded data removed]",
      "text/plain": [
       "<Figure size 432x288 with 1 Axes>"
      ]
     },
     "metadata": {
      "needs_background": "light"
     },
     "output_type": "display_data"
    }
   ],
   "source": [
    "# Get Processed Data #\n",
    "path_X = 'processed_data/X_energy.npy'\n",
    "path_Y = 'processed_data/Y_energy.npy'\n",
    "\n",
    "# path_X_4class = 'processed_data/X_energy_4class.npy'\n",
    "# path_Y_4class = 'processed_data/Y_energy_4class.npy'\n",
    "\n",
    "\n",
    "X = np.load(path_X)\n",
    "Y = np.load(path_Y)-1\n",
    "# X = np.load(path_X_4class)\n",
    "# Y = np.load(path_Y_4class)-1\n",
    "\n",
    "label_names = ['scratch', 'tap', 'silence/rose']\n",
    "\n",
    "print(\"Shape of X: {};\\nShape of Y: {}\".format(X.shape, Y.shape))\n",
    "\n",
    "plt.plot(X[1,:])\n",
    "plt.plot(X[100,:])\n",
    "plt.plot(X[200,:])\n",
    "# plt.plot(X[330,:])\n",
    "plt.title('Some Example Downsampled Feature Vectors')\n",
    "plt.legend([label_names[int(Y[1][0])], \n",
    "            label_names[int(Y[100][0])], \n",
    "            label_names[int(Y[200][0])]])\n",
    "plt.show()"
   ]
  },
  {
   "cell_type": "code",
   "execution_count": 112,
   "metadata": {},
   "outputs": [
    {
     "data": {
      "text/plain": [
       "<258x3 sparse matrix of type '<class 'numpy.float64'>'\n",
       "\twith 258 stored elements in Compressed Sparse Row format>"
      ]
     },
     "execution_count": 112,
     "metadata": {},
     "output_type": "execute_result"
    }
   ],
   "source": [
    "# Encoding Y as one-hot\n",
    "\n",
    "enc = OneHotEncoder(handle_unknown='ignore')\n",
    "enc.fit(Y)\n",
    "Y_encoded = enc.transform(Y)\n",
    "\n",
    "Y_encoded"
   ]
  },
  {
   "cell_type": "code",
   "execution_count": 144,
   "metadata": {},
   "outputs": [
    {
     "name": "stdout",
     "output_type": "stream",
     "text": [
      "OVERALL SCORE OF MLP on TEST SET: 0.9384615384615385\n",
      "\n",
      "OVERALL SCORE OF MLP on TRAIN SET: 0.9948186528497409\n"
     ]
    }
   ],
   "source": [
    "# Training Model\n",
    "\n",
    "X_train, X_test, y_train, y_test = train_test_split(X, Y_encoded,\n",
    "                                                    random_state=1)\n",
    "clf = MLPClassifier(random_state=1, max_iter=3000, hidden_layer_sizes=(100,)).fit(X_train, y_train)\n",
    "score = clf.score(X_test, y_test)\n",
    "print(\"OVERALL SCORE OF MLP on TEST SET: {}\".format(score))\n",
    "\n",
    "score = clf.score(X_train, y_train)\n",
    "print(\"\\nOVERALL SCORE OF MLP on TRAIN SET: {}\".format(score))"
   ]
  },
  {
   "cell_type": "code",
   "execution_count": 148,
   "metadata": {},
   "outputs": [
    {
     "name": "stdout",
     "output_type": "stream",
     "text": [
      "=================================================\n",
      "=== RESULTS FOR INITIAL DATASET BASLINE MODEL ===\n",
      "=================================================\n",
      "\n",
      "Test Set Confusion Matrix: ['scratch', 'tap', 'silence/rose']\n",
      "[[23  1  0]\n",
      " [ 1 16  0]\n",
      " [ 0  1 23]]\n",
      "\n",
      "Training Set Confusion Matrix: ['scratch', 'tap', 'silence/rose']\n",
      "[[61  1  0]\n",
      " [ 0 69  0]\n",
      " [ 0  0 62]]\n",
      "\n",
      "Total Dataset Size: \t\t258 Samples\n",
      "Total Training Set Size: \t193 Samples\n",
      "Total Validation Set Size: \t65 Samples\n",
      "\n",
      "OVERALL SCORE OF MLP on TEST SET: \t93.84615384615384%\n",
      "OVERALL SCORE OF MLP on TRAIN SET: \t99.48186528497409%\n"
     ]
    }
   ],
   "source": [
    "# Generating a Confusion Matrix\n",
    "y_true = enc.inverse_transform(y_test)\n",
    "y_pred = enc.inverse_transform(clf.predict(X_test))\n",
    "\n",
    "print(\"=================================================\")\n",
    "print(\"=== RESULTS FOR INITIAL DATASET BASLINE MODEL ===\")\n",
    "print(\"=================================================\\n\")\n",
    "\n",
    "\n",
    "print('\\nTotal Dataset Size: \\t\\t{} Samples'.format(len(X)))\n",
    "print('Total Training Set Size: \\t{} Samples\\nTotal Validation Set Size: \\t{} Samples'.format(len(X_train), len(X_test)))\n",
    "\n",
    "\n",
    "print('Test Set Confusion Matrix: {}'.format(label_names))\n",
    "print(confusion_matrix(y_true, y_pred))\n",
    "\n",
    "\n",
    "y_true = enc.inverse_transform(y_train)\n",
    "y_pred = enc.inverse_transform(clf.predict(X_train))\n",
    "\n",
    "print('\\nTraining Set Confusion Matrix: {}'.format(label_names))\n",
    "print(confusion_matrix(y_true, y_pred))\n",
    "\n",
    "score = clf.score(X_test, y_test)\n",
    "print(\"\\nOVERALL SCORE OF MLP on TEST SET: \\t{}%\".format(score*100))\n",
    "\n",
    "score = clf.score(X_train, y_train)\n",
    "print(\"OVERALL SCORE OF MLP on TRAIN SET: \\t{}%\".format(score*100))"
   ]
  },
  {
   "cell_type": "code",
   "execution_count": null,
   "metadata": {},
   "outputs": [],
   "source": []
  }
 ],
 "metadata": {
  "kernelspec": {
   "display_name": "Python 3",
   "language": "python",
   "name": "python3"
  },
  "language_info": {
   "codemirror_mode": {
    "name": "ipython",
    "version": 3
   },
   "file_extension": ".py",
   "mimetype": "text/x-python",
   "name": "python",
   "nbconvert_exporter": "python",
   "pygments_lexer": "ipython3",
   "version": "3.8.3"
  }
 },
 "nbformat": 4,
 "nbformat_minor": 4
}
