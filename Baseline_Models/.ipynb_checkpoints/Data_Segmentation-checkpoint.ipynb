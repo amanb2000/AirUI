{
 "cells": [
  {
   "cell_type": "markdown",
   "metadata": {},
   "source": [
    "# Data Segmentation\n",
    "\n",
    "## Tasks\n",
    "\n",
    "- [x] Import `.wav` files.\n",
    "- [x] Segment.\n",
    "- [ ] Run downsampling protocol.\n",
    "- [ ] \n",
    "- [ ] Export as `.npy`.\n",
    "- [ ] Run Scipy.spectrum to obtain images.\n",
    "    - [ ] Apply mel-cepstrum spacing.\n"
   ]
  },
  {
   "cell_type": "code",
   "execution_count": 110,
   "metadata": {},
   "outputs": [],
   "source": [
    "# IMPORT BOX #\n",
    "import numpy as np\n",
    "import matplotlib.pyplot as plt\n",
    "from scipy.io import wavfile\n",
    "import scipy.io"
   ]
  },
  {
   "cell_type": "code",
   "execution_count": null,
   "metadata": {},
   "outputs": [],
   "source": [
    "# Constants\n",
    "num_energy_buckets = 20"
   ]
  },
  {
   "cell_type": "code",
   "execution_count": 111,
   "metadata": {},
   "outputs": [],
   "source": [
    "def segment_audio(FS, waves, pad=.1):\n",
    "    num_samples = int(len(waves)/FS) # Assuming one per second.\n",
    "    wave = (waves[:,0] + waves[:,1])*0.5\n",
    "    sample_list = []\n",
    "    \n",
    "    for i in range(num_samples):\n",
    "        wave_start = int(i*FS+pad*FS)\n",
    "        wave_end = int((i+1)*FS-pad*FS)\n",
    "        sample_list.append(wave[wave_start:wave_end])\n",
    "\n",
    "    return sample_list"
   ]
  },
  {
   "cell_type": "code",
   "execution_count": 112,
   "metadata": {},
   "outputs": [],
   "source": [
    "def get_energy(sample_list, num_buckets, normalize=True):\n",
    "    energy_list = []\n",
    "    \n",
    "    for sample in sample_list:\n",
    "        energy = sample*sample\n",
    "        energy_list.append(energy)\n",
    "    \n",
    "    return downsample_X(np.asarray(energy_list), num_buckets, normalize=normalize)\n",
    "        \n",
    "def downsample_X(X_full_sample, dimensionality, debug=False, normalize=True):\n",
    "    # Downsampling\n",
    "    X = np.zeros( [len(X_full_sample), dimensionality] )\n",
    "\n",
    "    step_size = int(len(X_full_sample[0])/dimensionality)\n",
    "\n",
    "    for ind in range(len(X_full_sample)):\n",
    "        cnt = 0\n",
    "        for j in range(0, len(X_full_sample[ind])-step_size, step_size):\n",
    "            X[ind][cnt] = np.mean(X_full_sample[ind][j:j+step_size])\n",
    "\n",
    "            cnt += 1\n",
    "            \n",
    "    if normalize:\n",
    "        for i in range(X.shape[0]):\n",
    "            X[i,:] /= max(X[i,:])\n",
    "\n",
    "    if debug:\n",
    "        plt.title('Full Resolution Vector')\n",
    "        plt.plot(X_full_sample[0])\n",
    "        plt.show()\n",
    "        plt.title('Down Sampled (Averaged) Vector (Dimensionality: {})'.format(dimensionality))\n",
    "        plt.plot(X[0])\n",
    "\n",
    "    return X"
   ]
  },
  {
   "cell_type": "code",
   "execution_count": 113,
   "metadata": {},
   "outputs": [],
   "source": [
    "def get_energy_data(file_path, pad=0.4, output_dims=20, normalize=True):\n",
    "    FS, audio = wavfile.read(file_path)\n",
    "    \n",
    "    output = segment_audio(FS, audio, pad=pad)\n",
    "    output = get_energy(output, output_dims, normalize=True)\n",
    "    \n",
    "    return output"
   ]
  },
  {
   "cell_type": "code",
   "execution_count": 114,
   "metadata": {},
   "outputs": [],
   "source": [
    "scratch_X = get_energy_data('raw_data/Scratches_01.wav', output_dims=num_energy_buckets)\n",
    "taps_X = get_energy_data('raw_data/Taps_01.wav')\n",
    "rose_X = get_energy_data('raw_data/Rose_01.wav')\n",
    "silence_X = get_energy_data('raw_data/Silence_01.wav')"
   ]
  },
  {
   "cell_type": "code",
   "execution_count": 115,
   "metadata": {},
   "outputs": [
    {
     "data": {
      "text/plain": [
       "344"
      ]
     },
     "execution_count": 115,
     "metadata": {},
     "output_type": "execute_result"
    }
   ],
   "source": [
    "# Creating the dataset of X and Y: \n",
    "\n",
    "X = np.concatenate([scratch_X, taps_X, rose_X, silence_X])\n",
    "Y = np.concatenate([np.ones([86,1]), 2*np.ones([86,1]), 3*np.ones([86,1]), 4*np.ones([86,1])])\n",
    "len(X)"
   ]
  },
  {
   "cell_type": "code",
   "execution_count": 116,
   "metadata": {},
   "outputs": [],
   "source": [
    "np.save('processed_data/X_energy.npy', X)\n",
    "np.save('processed_data/Y_energy.npy', Y)"
   ]
  },
  {
   "cell_type": "code",
   "execution_count": null,
   "metadata": {},
   "outputs": [],
   "source": []
  }
 ],
 "metadata": {
  "kernelspec": {
   "display_name": "Python 3",
   "language": "python",
   "name": "python3"
  },
  "language_info": {
   "codemirror_mode": {
    "name": "ipython",
    "version": 3
   },
   "file_extension": ".py",
   "mimetype": "text/x-python",
   "name": "python",
   "nbconvert_exporter": "python",
   "pygments_lexer": "ipython3",
   "version": "3.8.3"
  }
 },
 "nbformat": 4,
 "nbformat_minor": 4
}
