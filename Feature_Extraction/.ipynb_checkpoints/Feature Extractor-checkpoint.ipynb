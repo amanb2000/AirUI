{
 "cells": [
  {
   "cell_type": "markdown",
   "metadata": {},
   "source": [
    "# Feature Extraction: AirUI\n",
    "\n",
    "## Goal\n",
    "\n",
    "In this notebook we aim to segment and form mel-frequency spectrograms for each of them. The output images will be of variable length to account for different lengths of each gesture, and the CNN model will crop/pad them as necessary.\n",
    "\n",
    "## Tasks/Implementation\n",
    "\n",
    "- [x] Create file arp system to gain access to all necessary audio files.\n",
    "- [x] Create a function that takes in a file path and returns the segmented numpy arrays.\n",
    "- [x] Create a function that takes in the list of numpy arrays and produces a list of mel-frequency spectrograms.\n",
    "- [x] Create export function that takes in class name and list of spectrograms (as numpy arrays) and outputs it into the appropriate directory.\n",
    "- [x] Create master process function to automate the entire process.\n",
    "- [ ] Run the process, send results to team via Drive. "
   ]
  },
  {
   "cell_type": "code",
   "execution_count": 55,
   "metadata": {},
   "outputs": [],
   "source": [
    "# IMPORT BOX #\n",
    "import os\n",
    "import numpy as np\n",
    "import scipy\n",
    "import matplotlib.pyplot as plt\n",
    "import pandas\n",
    "from scipy.io import wavfile\n",
    "import scipy.io\n",
    "\n",
    "import librosa\n",
    "import librosa.display\n",
    "import IPython.display as ipd"
   ]
  },
  {
   "cell_type": "code",
   "execution_count": 56,
   "metadata": {},
   "outputs": [],
   "source": [
    "\"\"\"Constants\"\"\"\n",
    "\n",
    "base_path = '../Full_Dataset/Cropped_Stems/'\n",
    "\n",
    "folders = ['Circle_Scratches',\n",
    " 'Fingernail_Taps',\n",
    " 'Fingertip_Taps',\n",
    " 'Silences',\n",
    " 'Vertical_Scratches',\n",
    " 'W_Scratches']\n",
    "\n",
    "seg_lens = [1, 0.75, 0.75, 0.75, 0.75, 1.5] # length in seconds of\n",
    "                                            # each sample type.\n",
    "\n",
    "FS_global = 44100 # Global value for sampling rate (set in DAW)\n",
    "\n",
    "num_mels_global = 100"
   ]
  },
  {
   "cell_type": "code",
   "execution_count": 57,
   "metadata": {},
   "outputs": [],
   "source": [
    "def get_file_list(base_path, folder_name):\n",
    "    \"\"\"\n",
    "    Gets a list of file names (strings) in the basepath/folder_name/ \n",
    "    directory.\n",
    "    \"\"\"\n",
    "    path = base_path + folder_name\n",
    "    stream = os.popen('ls {}'.format(path))\n",
    "    output = stream.read()\n",
    "    file_names = output.split('\\n')[:-1]\n",
    "    return file_names"
   ]
  },
  {
   "cell_type": "code",
   "execution_count": 58,
   "metadata": {},
   "outputs": [],
   "source": [
    "def segment_audio(FS, waves, in_len, out_len=0.75):\n",
    "    \"\"\" \n",
    "    Returns a list of 1D numpy arrays of `out_len` snippets of samples from an input audio file.\n",
    "    \n",
    "    Keyword arguments:\n",
    "    \n",
    "    FS --         Sampling rate.\n",
    "    waves --      Input audio waveforms. \n",
    "    in_len --     Length (in SECONDS) of each gesture in the recording (Sample BPM/60).\n",
    "    \n",
    "    Optional arguments: \n",
    "    \n",
    "    out_len --    Desired length (in SECONDS) of the gestures in the output (will be symmetrically trimmed).\n",
    "                  Must be less than or equal to `in_len`.\n",
    "                  Defaults to 0.75 seconds.\n",
    "    \"\"\"\n",
    "    num_samples = int(len(waves)/(FS*in_len)) # Assuming one per second.\n",
    "    # TODO: Add contingency for 1 vs. 2-channel input waveforms. \n",
    "    wave = (waves[:,0] + waves[:,1])*0.5 # \n",
    "    sample_list = []\n",
    "    \n",
    "    pad = (in_len - out_len)/2\n",
    "    \n",
    "    for i in range(num_samples):\n",
    "        wave_start = int(i*FS*in_len+pad*FS)\n",
    "        wave_end = int((i+1)*FS*in_len-pad*FS)\n",
    "        sample_list.append(wave[wave_start:wave_end])\n",
    "\n",
    "    return sample_list"
   ]
  },
  {
   "cell_type": "code",
   "execution_count": 59,
   "metadata": {},
   "outputs": [],
   "source": [
    "def get_full_segment_list(base_path, folder_name, seg_len):\n",
    "    \"\"\"\n",
    "    Returns a list of numpy audio segments of length `seg_len`\n",
    "    (in seconds) extracted from ALL audio files inside of \n",
    "    /base_path/folder_name/\n",
    "    \"\"\"\n",
    "    file_names = get_file_list(base_path, folder_name)\n",
    "    \n",
    "    ret_list = []\n",
    "    \n",
    "    for name in file_names:\n",
    "        file_path = base_path+folder_name+'/'+name\n",
    "        FS, audio = wavfile.read(file_path)\n",
    "        seg_list = segment_audio(FS, audio, seg_len, out_len=seg_len)\n",
    "        ret_list += seg_list\n",
    "        \n",
    "    return ret_list"
   ]
  },
  {
   "cell_type": "code",
   "execution_count": 60,
   "metadata": {},
   "outputs": [],
   "source": [
    "def seg_list_to_spec_list(seg_list, num_mels, FS):\n",
    "    spec_list = []\n",
    "    for seg in seg_list:\n",
    "        filter_banks = librosa.filters.mel(n_fft=2048, sr=FS, n_mels=num_mels)\n",
    "        mel_spectrogram = librosa.feature.melspectrogram(seg, sr=FS, n_fft=2048, hop_length=512, n_mels=num_mels)\n",
    "        log_mel_spectrogram = librosa.power_to_db(mel_spectrogram)\n",
    "        spec_list.append(log_mel_spectrogram)\n",
    "        \n",
    "    return spec_list"
   ]
  },
  {
   "cell_type": "code",
   "execution_count": 61,
   "metadata": {},
   "outputs": [],
   "source": [
    "def dump_spec_list_to_folder(spec_list, name, path='../Full_Dataset/Spectrograms/'):\n",
    "    pth = path+name\n",
    "    \n",
    "    for i, spec in enumerate(spec_list):\n",
    "        plt.imsave('{}/{}.png'.format(pth,i), spec, cmap='gray')\n",
    "    \n",
    "    print('Done saving all images in {}'.format(name))"
   ]
  },
  {
   "cell_type": "code",
   "execution_count": 62,
   "metadata": {},
   "outputs": [],
   "source": [
    "def main():\n",
    "    for i in range(len(folders)):\n",
    "        print('Starting {}...'.format(folders[i]))\n",
    "        seg_list = get_full_segment_list(base_path, folders[i], seg_lens[i])\n",
    "        print('Finished Segmenting {}...'.format(folders[i]))\n",
    "        spec_list = seg_list_to_spec_list(seg_list, num_mels_global, FS_global)\n",
    "        print('Finished Computing Mel-Spectrograms for {}'.format(folders[i]))\n",
    "        dump_spec_list_to_folder(spec_list, folders[i])\n",
    "        print(\"\")"
   ]
  },
  {
   "cell_type": "code",
   "execution_count": null,
   "metadata": {},
   "outputs": [],
   "source": [
    "main()"
   ]
  },
  {
   "cell_type": "code",
   "execution_count": null,
   "metadata": {},
   "outputs": [],
   "source": []
  },
  {
   "cell_type": "code",
   "execution_count": null,
   "metadata": {},
   "outputs": [],
   "source": []
  },
  {
   "cell_type": "code",
   "execution_count": null,
   "metadata": {},
   "outputs": [],
   "source": []
  },
  {
   "cell_type": "code",
   "execution_count": null,
   "metadata": {},
   "outputs": [],
   "source": []
  },
  {
   "cell_type": "code",
   "execution_count": null,
   "metadata": {},
   "outputs": [],
   "source": []
  }
 ],
 "metadata": {
  "kernelspec": {
   "display_name": "Python 3",
   "language": "python",
   "name": "python3"
  },
  "language_info": {
   "codemirror_mode": {
    "name": "ipython",
    "version": 3
   },
   "file_extension": ".py",
   "mimetype": "text/x-python",
   "name": "python",
   "nbconvert_exporter": "python",
   "pygments_lexer": "ipython3",
   "version": "3.8.2"
  }
 },
 "nbformat": 4,
 "nbformat_minor": 4
}
