{
  "nbformat": 4,
  "nbformat_minor": 0,
  "metadata": {
    "kernelspec": {
      "display_name": "Python 3",
      "language": "python",
      "name": "python3"
    },
    "language_info": {
      "codemirror_mode": {
        "name": "ipython",
        "version": 3
      },
      "file_extension": ".py",
      "mimetype": "text/x-python",
      "name": "python",
      "nbconvert_exporter": "python",
      "pygments_lexer": "ipython3",
      "version": "3.7.7"
    },
    "colab": {
      "name": "Feature Extractor.ipynb",
      "provenance": [],
      "collapsed_sections": [],
      "toc_visible": true
    }
  },
  "cells": [
    {
      "cell_type": "markdown",
      "metadata": {
        "id": "jsz3F1ZkKHcq"
      },
      "source": [
        "# Feature Extraction: AirUI\n",
        "\n",
        "## Goal\n",
        "\n",
        "In this notebook we aim to segment and form mel-frequency spectrograms for each of them. The output images will be of variable length to account for different lengths of each gesture, and the CNN model will crop/pad them as necessary.\n",
        "\n",
        "## Tasks/Implementation\n",
        "\n",
        "- [x] Create file arp system to gain access to all necessary audio files.\n",
        "- [x] Create a function that takes in a file path and returns the segmented numpy arrays.\n",
        "- [x] Create a function that takes in the list of numpy arrays and produces a list of mel-frequency spectrograms.\n",
        "- [x] Create export function that takes in class name and list of spectrograms (as numpy arrays) and outputs it into the appropriate directory.\n",
        "- [x] Create master process function to automate the entire process.\n",
        "- [x] Run the process, send results to team via Drive. "
      ]
    },
    {
      "cell_type": "code",
      "metadata": {
        "colab": {
          "base_uri": "https://localhost:8080/"
        },
        "id": "McaPCmd3KWpK",
        "outputId": "026a3174-c111-420f-9d7e-71ef0b288a25"
      },
      "source": [
        "from google.colab import drive\n",
        "drive.mount('/content/drive')"
      ],
      "execution_count": null,
      "outputs": [
        {
          "output_type": "stream",
          "text": [
            "Mounted at /content/drive\n"
          ],
          "name": "stdout"
        }
      ]
    },
    {
      "cell_type": "code",
      "metadata": {
        "id": "Z23-Go1GKHcw"
      },
      "source": [
        "# IMPORT BOX #\n",
        "import os\n",
        "import numpy as np\n",
        "import scipy\n",
        "import matplotlib.pyplot as plt\n",
        "import pandas\n",
        "from scipy.io import wavfile\n",
        "import scipy.io\n",
        "import random\n",
        "\n",
        "import librosa\n",
        "import librosa.display\n",
        "import IPython.display as ipd"
      ],
      "execution_count": null,
      "outputs": []
    },
    {
      "cell_type": "code",
      "metadata": {
        "id": "1lDMIjezKHcx"
      },
      "source": [
        "\"\"\"Constants\"\"\"\n",
        "\n",
        "base_path = 'drive/MyDrive/\\'Third Year\\'/ECE324/\\'Mickey Mouse AI Club\\'/\\'03 Data Collection\\'/Cropped_Stems'\n",
        "base_path2 = 'drive/MyDrive/Third Year/ECE324/Mickey Mouse AI Club/03 Data Collection/Cropped_Stems'\n",
        "\n",
        "folders = ['Circle_Scratches',\n",
        " 'Fingernail_Taps',\n",
        " 'Fingertip_Taps',\n",
        " 'Silences',\n",
        " 'Vertical_Scratches',\n",
        " 'W_Scratches']\n",
        "\n",
        "Subjects = ['Aman Bhargava(1).wav',\n",
        " 'Andre Fu.wav',\n",
        " 'Brian C.wav',\n",
        " 'Bryen Hume.wav',\n",
        " 'David Carnaffan.wav',\n",
        " 'Divy Raval.wav',\n",
        " 'Elysia Harrison.wav',\n",
        " 'Gerry Chen.wav',\n",
        " 'Hairan Zheng.wav',\n",
        " 'Jayden Lefebvre.wav',\n",
        " 'Eli Scott.wav',\n",
        " 'Kelvin Cui.wav',\n",
        " 'Michal Fishkin.wav',\n",
        " 'pathwaystopeaceyoga@hotmail.com.wav',\n",
        " 'Shayla Martin-Fenn.wav',\n",
        " 'Siddharth Vijay.wav',\n",
        " 'Kathryn Carnaffan.wav',\n",
        " 'Rachel Green.wav',\n",
        " 'Spencer Teetaert.wav',\n",
        " 'Adam Carnaffan.wav',\n",
        " 'Aidan Bowers.wav',\n",
        " 'Alice Zhou.wav',\n",
        " 'Alice Zhou(1).wav',\n",
        " 'Aman Bhargava.wav']\n",
        "\n",
        "seg_lens = [1, 0.75, 0.75, 0.75, 0.75, 1.5] # length in seconds of\n",
        "                                            # each sample type.\n",
        "\n",
        "FS_global = 44100 # Global value for sampling rate (set in DAW)\n",
        "\n",
        "num_mels_global = 100"
      ],
      "execution_count": null,
      "outputs": []
    },
    {
      "cell_type": "code",
      "metadata": {
        "id": "Qjlqt-ekKHcy"
      },
      "source": [
        "def get_file_list(base_path, folder_name):\n",
        "    \"\"\"\n",
        "    Gets a list of file names (strings) in the basepath/folder_name/ \n",
        "    directory.\n",
        "    \"\"\"\n",
        "    path = base_path + '/' + folder_name\n",
        "    stream = os.popen('ls {}'.format(path))\n",
        "    output = stream.read()\n",
        "    file_names = output.split('\\n')[:-1]\n",
        "    return file_names"
      ],
      "execution_count": null,
      "outputs": []
    },
    {
      "cell_type": "code",
      "metadata": {
        "id": "n16goq7sKHcy"
      },
      "source": [
        "def segment_audio(FS, waves, in_len, out_len=0.75):\n",
        "    \"\"\" \n",
        "    Returns a list of 1D numpy arrays of `out_len` snippets of samples from an input audio file.\n",
        "    \n",
        "    Keyword arguments:\n",
        "    \n",
        "    FS --         Sampling rate.\n",
        "    waves --      Input audio waveforms. \n",
        "    in_len --     Length (in SECONDS) of each gesture in the recording (Sample BPM/60).\n",
        "    \n",
        "    Optional arguments: \n",
        "    \n",
        "    out_len --    Desired length (in SECONDS) of the gestures in the output (will be symmetrically trimmed).\n",
        "                  Must be less than or equal to `in_len`.\n",
        "                  Defaults to 0.75 seconds.\n",
        "    \"\"\"\n",
        "    num_samples = int(len(waves)/(FS*in_len)) # Assuming one per second.\n",
        "    # TODO: Add contingency for 1 vs. 2-channel input waveforms. \n",
        "    wave = (waves[:,0] + waves[:,1])*0.5 # \n",
        "    sample_list = []\n",
        "    \n",
        "    pad = (in_len - out_len)/2\n",
        "    \n",
        "    for i in range(num_samples):\n",
        "        wave_start = int(i*FS*in_len+pad*FS)\n",
        "        wave_end = int((i+1)*FS*in_len-pad*FS)\n",
        "        sample_list.append(wave[wave_start:wave_end])\n",
        "\n",
        "    return sample_list"
      ],
      "execution_count": null,
      "outputs": []
    },
    {
      "cell_type": "code",
      "metadata": {
        "id": "ZbvFsSGNZm5W"
      },
      "source": [
        "def subjects_include_file_name (file_name, subjects):\r\n",
        "  for subject in subjects: \r\n",
        "    if subject in file_name:\r\n",
        "      return True\r\n",
        "  return False"
      ],
      "execution_count": null,
      "outputs": []
    },
    {
      "cell_type": "code",
      "metadata": {
        "id": "_ykorXQoKHcy"
      },
      "source": [
        "def get_full_segment_list(base_path, folder_name, seg_len, test_subjects):\n",
        "    \"\"\"\n",
        "    Returns a list of numpy audio segments of length `seg_len`\n",
        "    (in seconds) extracted from ALL audio files inside of \n",
        "    /base_path/folder_name/\n",
        "    \"\"\"\n",
        "    file_names = get_file_list(base_path, folder_name)\n",
        "    \n",
        "    ret_train_list = []\n",
        "    ret_test_list = []\n",
        "    \n",
        "    for name in file_names:\n",
        "        file_path = base_path2 + '/' + folder_name+'/' +name\n",
        "        FS, audio = wavfile.read(file_path)\n",
        "        seg_list = segment_audio(FS, audio, seg_len, out_len=seg_len)\n",
        "        if subjects_include_file_name(name, test_subjects):\n",
        "          ret_test_list += seg_list\n",
        "        else: \n",
        "          ret_train_list += seg_list\n",
        "    return ret_train_list, ret_test_list\n",
        "  "
      ],
      "execution_count": null,
      "outputs": []
    },
    {
      "cell_type": "code",
      "metadata": {
        "id": "syE0fb0WKHcz"
      },
      "source": [
        "def seg_list_to_spec_list(seg_list, num_mels, FS):\n",
        "    spec_list = []\n",
        "    for seg in seg_list:\n",
        "        filter_banks = librosa.filters.mel(n_fft=2048, sr=FS, n_mels=num_mels)\n",
        "        mel_spectrogram = librosa.feature.melspectrogram(seg, sr=FS, n_fft=2048, hop_length=512, n_mels=num_mels)\n",
        "        log_mel_spectrogram = librosa.power_to_db(mel_spectrogram)\n",
        "        spec_list.append(log_mel_spectrogram)\n",
        "        \n",
        "    return spec_list"
      ],
      "execution_count": null,
      "outputs": []
    },
    {
      "cell_type": "code",
      "metadata": {
        "id": "wX_c9BmgKHcz"
      },
      "source": [
        "def dump_spec_list_to_folder(spec_list, name, path='../Full_Dataset/Spectrograms/'):\n",
        "    pth = path+name\n",
        "    \n",
        "    for i, spec in enumerate(spec_list):\n",
        "        plt.imsave('{}/{}.png'.format(pth,i), spec, cmap='gray')\n",
        "    \n",
        "    print('Done saving all images in {}'.format(name))"
      ],
      "execution_count": null,
      "outputs": []
    },
    {
      "cell_type": "code",
      "metadata": {
        "id": "Xzpb4nS4KHcz"
      },
      "source": [
        "def main():\n",
        "    test_subjects = random.sample(Subjects, 6)     #6 people to the test set, 18 people to the training set\n",
        "    print('The selected participants in the test set are:') \n",
        "    print (test_subjects)   \n",
        "    for i in range(len(folders)):\n",
        "        print('Starting {}...'.format(folders[i]))\n",
        "        seg_list_train, seg_list_test = get_full_segment_list(base_path, folders[i], seg_lens[i], test_subjects)\n",
        "        print('Finished Segmenting {}...'.format(folders[i]))\n",
        "        spec_list_train = seg_list_to_spec_list(seg_list_train, num_mels_global, FS_global)\n",
        "        spec_list_test = seg_list_to_spec_list(seg_list_test, num_mels_global, FS_global)\n",
        "        print('Finished Computing Mel-Spectrograms for {}'.format(folders[i]))\n",
        "        \n",
        "        dump_spec_list_to_folder(spec_list_train, folders[i], path='drive/MyDrive/Third Year/ECE324/Mickey Mouse AI Club/04 Datasets/dataset_v02/train/')\n",
        "        dump_spec_list_to_folder(spec_list_test, folders[i], path='drive/MyDrive/Third Year/ECE324/Mickey Mouse AI Club/04 Datasets/dataset_v02/test/')\n",
        "        print(\"\")"
      ],
      "execution_count": 143,
      "outputs": []
    },
    {
      "cell_type": "code",
      "metadata": {
        "colab": {
          "base_uri": "https://localhost:8080/"
        },
        "id": "3sHhxrfjKHcz",
        "outputId": "6b5f427b-f174-431b-ef8f-85002175a3d5"
      },
      "source": [
        "main()"
      ],
      "execution_count": 146,
      "outputs": [
        {
          "output_type": "stream",
          "text": [
            "The selected participants in the test set are:\n",
            "['Alice Zhou.wav', 'Aidan Bowers.wav', 'Adam Carnaffan.wav', 'Alice Zhou(1).wav', 'David Carnaffan.wav', 'Andre Fu.wav']\n",
            "Starting Circle_Scratches...\n",
            "Finished Segmenting Circle_Scratches...\n",
            "Finished Computing Mel-Spectrograms for Circle_Scratches\n",
            "Done saving all images in Circle_Scratches\n",
            "Done saving all images in Circle_Scratches\n",
            "\n",
            "Starting Fingernail_Taps...\n",
            "Finished Segmenting Fingernail_Taps...\n",
            "Finished Computing Mel-Spectrograms for Fingernail_Taps\n",
            "Done saving all images in Fingernail_Taps\n",
            "Done saving all images in Fingernail_Taps\n",
            "\n",
            "Starting Fingertip_Taps...\n",
            "Finished Segmenting Fingertip_Taps...\n",
            "Finished Computing Mel-Spectrograms for Fingertip_Taps\n",
            "Done saving all images in Fingertip_Taps\n",
            "Done saving all images in Fingertip_Taps\n",
            "\n",
            "Starting Silences...\n",
            "Finished Segmenting Silences...\n",
            "Finished Computing Mel-Spectrograms for Silences\n",
            "Done saving all images in Silences\n",
            "Done saving all images in Silences\n",
            "\n",
            "Starting Vertical_Scratches...\n",
            "Finished Segmenting Vertical_Scratches...\n",
            "Finished Computing Mel-Spectrograms for Vertical_Scratches\n",
            "Done saving all images in Vertical_Scratches\n",
            "Done saving all images in Vertical_Scratches\n",
            "\n",
            "Starting W_Scratches...\n",
            "Finished Segmenting W_Scratches...\n",
            "Finished Computing Mel-Spectrograms for W_Scratches\n",
            "Done saving all images in W_Scratches\n",
            "Done saving all images in W_Scratches\n",
            "\n"
          ],
          "name": "stdout"
        }
      ]
    },
    {
      "cell_type": "code",
      "metadata": {
        "id": "GXDF_qgmKHc0"
      },
      "source": [
        ""
      ],
      "execution_count": null,
      "outputs": []
    },
    {
      "cell_type": "code",
      "metadata": {
        "id": "HdYXBpnSKHc1"
      },
      "source": [
        ""
      ],
      "execution_count": null,
      "outputs": []
    },
    {
      "cell_type": "code",
      "metadata": {
        "id": "RTBn0s9-KHc1"
      },
      "source": [
        ""
      ],
      "execution_count": null,
      "outputs": []
    },
    {
      "cell_type": "code",
      "metadata": {
        "id": "J-Xm2mr5KHc1"
      },
      "source": [
        ""
      ],
      "execution_count": null,
      "outputs": []
    },
    {
      "cell_type": "code",
      "metadata": {
        "id": "A6uuERH4KHc1"
      },
      "source": [
        ""
      ],
      "execution_count": null,
      "outputs": []
    }
  ]
}