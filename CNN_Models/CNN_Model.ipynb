{
  "nbformat": 4,
  "nbformat_minor": 0,
  "metadata": {
    "colab": {
      "name": "CNN_Model.ipynb",
      "provenance": [],
      "collapsed_sections": []
    },
    "kernelspec": {
      "name": "python3",
      "display_name": "Python 3"
    }
  },
  "cells": [
    {
      "cell_type": "code",
      "metadata": {
        "id": "eS0gxwwuZoaL"
      },
      "source": [
        "class CNN(nn.Module):\n",
        "  def __init__(self):\n",
        "    super(CNN, self).__init__()            #size 3x56x56 input\n",
        "    self.conv1 = nn.Conv2d(3,4,3)        #four 54x54 feature maps\n",
        "    self.pool = nn.MaxPool2d(2,2)        #four 27x27 feature maps\n",
        "    self.conv2 = nn.Conv2d(4,8,5)        #eight 23x23 feature maps\n",
        "    self.fc1 = nn.Linear(8*11*11, 100)\n",
        "    self.fc2 = nn.Linear(100, 10)\n",
        "  def forward(self, x):\n",
        "    x = self.pool(activation(self.conv1(x)))\n",
        "    x = self.pool(activation(self.conv2(x)))\n",
        "    x = x.view(-1, 8*11*11)\n",
        "    x = activation(self.fc1(x))\n",
        "    x = self.fc2(x)\n",
        "    return x"
      ],
      "execution_count": null,
      "outputs": []
    }
  ]
}